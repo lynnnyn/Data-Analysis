{
 "cells": [
  {
   "cell_type": "markdown",
   "metadata": {
    "collapsed": true
   },
   "source": [
    "# Report for hydraulic systems Data Set   (Yinan Ni)"
   ]
  },
  {
   "cell_type": "markdown",
   "metadata": {},
   "source": [
    "# Algorithms : 1. KNN  2. Random Forest  3. Logistic Regression"
   ]
  },
  {
   "cell_type": "markdown",
   "metadata": {},
   "source": [
    "# Target Condition :  Cooler condition"
   ]
  },
  {
   "cell_type": "code",
   "execution_count": null,
   "metadata": {
    "collapsed": true
   },
   "outputs": [],
   "source": [
    "import sklearn as skl\n",
    "import pandas as pd\n",
    "import numpy as np\n",
    "from pandas import Series,DataFrame\n",
    "import seaborn as sns\n",
    "import zipfile\n",
    "import csv\n",
    "%matplotlib inline"
   ]
  },
  {
   "cell_type": "markdown",
   "metadata": {},
   "source": [
    "# 1.Data Exploration"
   ]
  },
  {
   "cell_type": "code",
   "execution_count": 5,
   "metadata": {
    "collapsed": true
   },
   "outputs": [],
   "source": [
    "file_list = ['TS1', 'TS2', 'TS3', 'TS4','SE', 'PS1', 'PS2', 'PS3', 'PS4', 'PS5',\n",
    "              'PS6', 'FS1', 'FS2', 'EPS1', 'CP', 'CE']\n",
    "file_list = [\"{}.txt\".format(s) for s in file_list]\n",
    "all_file = []\n",
    "\n",
    "for key in file_list:\n",
    "    df = pd.read_table(key, header=None)\n",
    "    all_file.append(df)\n"
   ]
  },
  {
   "cell_type": "code",
   "execution_count": 7,
   "metadata": {},
   "outputs": [
    {
     "data": {
      "text/html": [
       "<div>\n",
       "<style scoped>\n",
       "    .dataframe tbody tr th:only-of-type {\n",
       "        vertical-align: middle;\n",
       "    }\n",
       "\n",
       "    .dataframe tbody tr th {\n",
       "        vertical-align: top;\n",
       "    }\n",
       "\n",
       "    .dataframe thead th {\n",
       "        text-align: right;\n",
       "    }\n",
       "</style>\n",
       "<table border=\"1\" class=\"dataframe\">\n",
       "  <thead>\n",
       "    <tr style=\"text-align: right;\">\n",
       "      <th></th>\n",
       "      <th>0</th>\n",
       "      <th>1</th>\n",
       "      <th>2</th>\n",
       "      <th>3</th>\n",
       "      <th>4</th>\n",
       "      <th>5</th>\n",
       "      <th>6</th>\n",
       "      <th>7</th>\n",
       "      <th>8</th>\n",
       "      <th>9</th>\n",
       "      <th>...</th>\n",
       "      <th>50</th>\n",
       "      <th>51</th>\n",
       "      <th>52</th>\n",
       "      <th>53</th>\n",
       "      <th>54</th>\n",
       "      <th>55</th>\n",
       "      <th>56</th>\n",
       "      <th>57</th>\n",
       "      <th>58</th>\n",
       "      <th>59</th>\n",
       "    </tr>\n",
       "  </thead>\n",
       "  <tbody>\n",
       "    <tr>\n",
       "      <th>0</th>\n",
       "      <td>35.570</td>\n",
       "      <td>35.492</td>\n",
       "      <td>35.469</td>\n",
       "      <td>35.422</td>\n",
       "      <td>35.414</td>\n",
       "      <td>35.320</td>\n",
       "      <td>35.227</td>\n",
       "      <td>35.242</td>\n",
       "      <td>35.160</td>\n",
       "      <td>35.176</td>\n",
       "      <td>...</td>\n",
       "      <td>36.008</td>\n",
       "      <td>35.984</td>\n",
       "      <td>35.996</td>\n",
       "      <td>36.039</td>\n",
       "      <td>36.008</td>\n",
       "      <td>36.008</td>\n",
       "      <td>36.094</td>\n",
       "      <td>36.102</td>\n",
       "      <td>36.090</td>\n",
       "      <td>36.152</td>\n",
       "    </tr>\n",
       "    <tr>\n",
       "      <th>1</th>\n",
       "      <td>36.156</td>\n",
       "      <td>36.094</td>\n",
       "      <td>35.992</td>\n",
       "      <td>36.008</td>\n",
       "      <td>35.992</td>\n",
       "      <td>35.902</td>\n",
       "      <td>35.824</td>\n",
       "      <td>35.820</td>\n",
       "      <td>35.727</td>\n",
       "      <td>35.727</td>\n",
       "      <td>...</td>\n",
       "      <td>37.328</td>\n",
       "      <td>37.324</td>\n",
       "      <td>37.340</td>\n",
       "      <td>37.332</td>\n",
       "      <td>37.316</td>\n",
       "      <td>37.410</td>\n",
       "      <td>37.418</td>\n",
       "      <td>37.422</td>\n",
       "      <td>37.488</td>\n",
       "      <td>37.477</td>\n",
       "    </tr>\n",
       "    <tr>\n",
       "      <th>2</th>\n",
       "      <td>37.488</td>\n",
       "      <td>37.391</td>\n",
       "      <td>37.340</td>\n",
       "      <td>37.312</td>\n",
       "      <td>37.223</td>\n",
       "      <td>37.145</td>\n",
       "      <td>37.059</td>\n",
       "      <td>36.973</td>\n",
       "      <td>36.898</td>\n",
       "      <td>36.879</td>\n",
       "      <td>...</td>\n",
       "      <td>38.457</td>\n",
       "      <td>38.461</td>\n",
       "      <td>38.457</td>\n",
       "      <td>38.469</td>\n",
       "      <td>38.469</td>\n",
       "      <td>38.555</td>\n",
       "      <td>38.527</td>\n",
       "      <td>38.543</td>\n",
       "      <td>38.527</td>\n",
       "      <td>38.621</td>\n",
       "    </tr>\n",
       "    <tr>\n",
       "      <th>3</th>\n",
       "      <td>38.633</td>\n",
       "      <td>38.535</td>\n",
       "      <td>38.469</td>\n",
       "      <td>38.379</td>\n",
       "      <td>38.297</td>\n",
       "      <td>38.223</td>\n",
       "      <td>38.125</td>\n",
       "      <td>38.062</td>\n",
       "      <td>37.977</td>\n",
       "      <td>37.969</td>\n",
       "      <td>...</td>\n",
       "      <td>39.441</td>\n",
       "      <td>39.363</td>\n",
       "      <td>39.367</td>\n",
       "      <td>39.457</td>\n",
       "      <td>39.461</td>\n",
       "      <td>39.461</td>\n",
       "      <td>39.473</td>\n",
       "      <td>39.441</td>\n",
       "      <td>39.453</td>\n",
       "      <td>39.461</td>\n",
       "    </tr>\n",
       "    <tr>\n",
       "      <th>4</th>\n",
       "      <td>39.461</td>\n",
       "      <td>39.461</td>\n",
       "      <td>39.375</td>\n",
       "      <td>39.281</td>\n",
       "      <td>39.203</td>\n",
       "      <td>39.113</td>\n",
       "      <td>39.043</td>\n",
       "      <td>38.969</td>\n",
       "      <td>38.875</td>\n",
       "      <td>38.883</td>\n",
       "      <td>...</td>\n",
       "      <td>40.324</td>\n",
       "      <td>40.320</td>\n",
       "      <td>40.312</td>\n",
       "      <td>40.340</td>\n",
       "      <td>40.320</td>\n",
       "      <td>40.387</td>\n",
       "      <td>40.391</td>\n",
       "      <td>40.391</td>\n",
       "      <td>40.387</td>\n",
       "      <td>40.391</td>\n",
       "    </tr>\n",
       "  </tbody>\n",
       "</table>\n",
       "<p>5 rows × 60 columns</p>\n",
       "</div>"
      ],
      "text/plain": [
       "       0       1       2       3       4       5       6       7       8   \\\n",
       "0  35.570  35.492  35.469  35.422  35.414  35.320  35.227  35.242  35.160   \n",
       "1  36.156  36.094  35.992  36.008  35.992  35.902  35.824  35.820  35.727   \n",
       "2  37.488  37.391  37.340  37.312  37.223  37.145  37.059  36.973  36.898   \n",
       "3  38.633  38.535  38.469  38.379  38.297  38.223  38.125  38.062  37.977   \n",
       "4  39.461  39.461  39.375  39.281  39.203  39.113  39.043  38.969  38.875   \n",
       "\n",
       "       9    ...        50      51      52      53      54      55      56  \\\n",
       "0  35.176   ...    36.008  35.984  35.996  36.039  36.008  36.008  36.094   \n",
       "1  35.727   ...    37.328  37.324  37.340  37.332  37.316  37.410  37.418   \n",
       "2  36.879   ...    38.457  38.461  38.457  38.469  38.469  38.555  38.527   \n",
       "3  37.969   ...    39.441  39.363  39.367  39.457  39.461  39.461  39.473   \n",
       "4  38.883   ...    40.324  40.320  40.312  40.340  40.320  40.387  40.391   \n",
       "\n",
       "       57      58      59  \n",
       "0  36.102  36.090  36.152  \n",
       "1  37.422  37.488  37.477  \n",
       "2  38.543  38.527  38.621  \n",
       "3  39.441  39.453  39.461  \n",
       "4  40.391  40.387  40.391  \n",
       "\n",
       "[5 rows x 60 columns]"
      ]
     },
     "execution_count": 7,
     "metadata": {},
     "output_type": "execute_result"
    }
   ],
   "source": [
    "ts1 = all_file[0]\n",
    "ts1.head()"
   ]
  },
  {
   "cell_type": "code",
   "execution_count": 9,
   "metadata": {},
   "outputs": [
    {
     "data": {
      "text/html": [
       "<div>\n",
       "<style scoped>\n",
       "    .dataframe tbody tr th:only-of-type {\n",
       "        vertical-align: middle;\n",
       "    }\n",
       "\n",
       "    .dataframe tbody tr th {\n",
       "        vertical-align: top;\n",
       "    }\n",
       "\n",
       "    .dataframe thead th {\n",
       "        text-align: right;\n",
       "    }\n",
       "</style>\n",
       "<table border=\"1\" class=\"dataframe\">\n",
       "  <thead>\n",
       "    <tr style=\"text-align: right;\">\n",
       "      <th></th>\n",
       "      <th>0</th>\n",
       "      <th>1</th>\n",
       "      <th>2</th>\n",
       "      <th>3</th>\n",
       "      <th>4</th>\n",
       "      <th>5</th>\n",
       "      <th>6</th>\n",
       "      <th>7</th>\n",
       "      <th>8</th>\n",
       "      <th>9</th>\n",
       "      <th>...</th>\n",
       "      <th>50</th>\n",
       "      <th>51</th>\n",
       "      <th>52</th>\n",
       "      <th>53</th>\n",
       "      <th>54</th>\n",
       "      <th>55</th>\n",
       "      <th>56</th>\n",
       "      <th>57</th>\n",
       "      <th>58</th>\n",
       "      <th>59</th>\n",
       "    </tr>\n",
       "  </thead>\n",
       "  <tbody>\n",
       "    <tr>\n",
       "      <th>count</th>\n",
       "      <td>2205.000000</td>\n",
       "      <td>2205.000000</td>\n",
       "      <td>2205.000000</td>\n",
       "      <td>2205.000000</td>\n",
       "      <td>2205.000000</td>\n",
       "      <td>2205.000000</td>\n",
       "      <td>2205.000000</td>\n",
       "      <td>2205.000000</td>\n",
       "      <td>2205.000000</td>\n",
       "      <td>2205.000000</td>\n",
       "      <td>...</td>\n",
       "      <td>2205.000000</td>\n",
       "      <td>2205.000000</td>\n",
       "      <td>2205.00000</td>\n",
       "      <td>2205.000000</td>\n",
       "      <td>2205.000000</td>\n",
       "      <td>2205.000000</td>\n",
       "      <td>2205.000000</td>\n",
       "      <td>2205.000000</td>\n",
       "      <td>2205.000000</td>\n",
       "      <td>2205.000000</td>\n",
       "    </tr>\n",
       "    <tr>\n",
       "      <th>mean</th>\n",
       "      <td>45.511420</td>\n",
       "      <td>45.460717</td>\n",
       "      <td>45.400622</td>\n",
       "      <td>45.336808</td>\n",
       "      <td>45.276612</td>\n",
       "      <td>45.218042</td>\n",
       "      <td>45.166757</td>\n",
       "      <td>45.121327</td>\n",
       "      <td>45.078724</td>\n",
       "      <td>45.045597</td>\n",
       "      <td>...</td>\n",
       "      <td>45.573747</td>\n",
       "      <td>45.557226</td>\n",
       "      <td>45.54675</td>\n",
       "      <td>45.540769</td>\n",
       "      <td>45.539410</td>\n",
       "      <td>45.537794</td>\n",
       "      <td>45.534888</td>\n",
       "      <td>45.533562</td>\n",
       "      <td>45.531347</td>\n",
       "      <td>45.527454</td>\n",
       "    </tr>\n",
       "    <tr>\n",
       "      <th>std</th>\n",
       "      <td>8.025131</td>\n",
       "      <td>8.025665</td>\n",
       "      <td>8.018736</td>\n",
       "      <td>8.008237</td>\n",
       "      <td>7.998160</td>\n",
       "      <td>7.986921</td>\n",
       "      <td>7.973767</td>\n",
       "      <td>7.962258</td>\n",
       "      <td>7.950144</td>\n",
       "      <td>7.938532</td>\n",
       "      <td>...</td>\n",
       "      <td>7.990195</td>\n",
       "      <td>7.983875</td>\n",
       "      <td>7.98408</td>\n",
       "      <td>7.989100</td>\n",
       "      <td>7.995141</td>\n",
       "      <td>8.000784</td>\n",
       "      <td>8.007442</td>\n",
       "      <td>8.014366</td>\n",
       "      <td>8.018769</td>\n",
       "      <td>8.022338</td>\n",
       "    </tr>\n",
       "    <tr>\n",
       "      <th>min</th>\n",
       "      <td>35.398000</td>\n",
       "      <td>35.320000</td>\n",
       "      <td>35.250000</td>\n",
       "      <td>35.168000</td>\n",
       "      <td>35.148000</td>\n",
       "      <td>35.094000</td>\n",
       "      <td>35.082000</td>\n",
       "      <td>34.988000</td>\n",
       "      <td>34.988000</td>\n",
       "      <td>34.988000</td>\n",
       "      <td>...</td>\n",
       "      <td>35.414000</td>\n",
       "      <td>35.414000</td>\n",
       "      <td>35.41000</td>\n",
       "      <td>35.414000</td>\n",
       "      <td>35.398000</td>\n",
       "      <td>35.398000</td>\n",
       "      <td>35.398000</td>\n",
       "      <td>35.395000</td>\n",
       "      <td>35.402000</td>\n",
       "      <td>35.395000</td>\n",
       "    </tr>\n",
       "    <tr>\n",
       "      <th>25%</th>\n",
       "      <td>36.312000</td>\n",
       "      <td>36.238000</td>\n",
       "      <td>36.187000</td>\n",
       "      <td>36.160000</td>\n",
       "      <td>36.090000</td>\n",
       "      <td>36.020000</td>\n",
       "      <td>36.008000</td>\n",
       "      <td>36.000000</td>\n",
       "      <td>35.934000</td>\n",
       "      <td>35.926000</td>\n",
       "      <td>...</td>\n",
       "      <td>36.395000</td>\n",
       "      <td>36.344000</td>\n",
       "      <td>36.33200</td>\n",
       "      <td>36.328000</td>\n",
       "      <td>36.328000</td>\n",
       "      <td>36.328000</td>\n",
       "      <td>36.328000</td>\n",
       "      <td>36.320000</td>\n",
       "      <td>36.320000</td>\n",
       "      <td>36.316000</td>\n",
       "    </tr>\n",
       "    <tr>\n",
       "      <th>50%</th>\n",
       "      <td>44.863000</td>\n",
       "      <td>44.855000</td>\n",
       "      <td>44.781000</td>\n",
       "      <td>44.711000</td>\n",
       "      <td>44.684000</td>\n",
       "      <td>44.621000</td>\n",
       "      <td>44.617000</td>\n",
       "      <td>44.527000</td>\n",
       "      <td>44.461000</td>\n",
       "      <td>44.457000</td>\n",
       "      <td>...</td>\n",
       "      <td>45.020000</td>\n",
       "      <td>45.016000</td>\n",
       "      <td>44.94100</td>\n",
       "      <td>44.941000</td>\n",
       "      <td>44.949000</td>\n",
       "      <td>44.937000</td>\n",
       "      <td>44.937000</td>\n",
       "      <td>44.937000</td>\n",
       "      <td>44.937000</td>\n",
       "      <td>44.930000</td>\n",
       "    </tr>\n",
       "    <tr>\n",
       "      <th>75%</th>\n",
       "      <td>54.238000</td>\n",
       "      <td>54.148000</td>\n",
       "      <td>54.070000</td>\n",
       "      <td>54.000000</td>\n",
       "      <td>53.906000</td>\n",
       "      <td>53.828000</td>\n",
       "      <td>53.816000</td>\n",
       "      <td>53.734000</td>\n",
       "      <td>53.660000</td>\n",
       "      <td>53.656000</td>\n",
       "      <td>...</td>\n",
       "      <td>54.246000</td>\n",
       "      <td>54.246000</td>\n",
       "      <td>54.24200</td>\n",
       "      <td>54.242000</td>\n",
       "      <td>54.242000</td>\n",
       "      <td>54.242000</td>\n",
       "      <td>54.242000</td>\n",
       "      <td>54.242000</td>\n",
       "      <td>54.242000</td>\n",
       "      <td>54.238000</td>\n",
       "    </tr>\n",
       "    <tr>\n",
       "      <th>max</th>\n",
       "      <td>58.039000</td>\n",
       "      <td>57.953000</td>\n",
       "      <td>57.941000</td>\n",
       "      <td>57.863000</td>\n",
       "      <td>57.715000</td>\n",
       "      <td>57.641000</td>\n",
       "      <td>57.609000</td>\n",
       "      <td>57.527000</td>\n",
       "      <td>57.465000</td>\n",
       "      <td>57.383000</td>\n",
       "      <td>...</td>\n",
       "      <td>58.023000</td>\n",
       "      <td>58.047000</td>\n",
       "      <td>58.03100</td>\n",
       "      <td>57.965000</td>\n",
       "      <td>57.945000</td>\n",
       "      <td>57.957000</td>\n",
       "      <td>57.957000</td>\n",
       "      <td>57.973000</td>\n",
       "      <td>57.973000</td>\n",
       "      <td>58.023000</td>\n",
       "    </tr>\n",
       "  </tbody>\n",
       "</table>\n",
       "<p>8 rows × 60 columns</p>\n",
       "</div>"
      ],
      "text/plain": [
       "                0            1            2            3            4   \\\n",
       "count  2205.000000  2205.000000  2205.000000  2205.000000  2205.000000   \n",
       "mean     45.511420    45.460717    45.400622    45.336808    45.276612   \n",
       "std       8.025131     8.025665     8.018736     8.008237     7.998160   \n",
       "min      35.398000    35.320000    35.250000    35.168000    35.148000   \n",
       "25%      36.312000    36.238000    36.187000    36.160000    36.090000   \n",
       "50%      44.863000    44.855000    44.781000    44.711000    44.684000   \n",
       "75%      54.238000    54.148000    54.070000    54.000000    53.906000   \n",
       "max      58.039000    57.953000    57.941000    57.863000    57.715000   \n",
       "\n",
       "                5            6            7            8            9   \\\n",
       "count  2205.000000  2205.000000  2205.000000  2205.000000  2205.000000   \n",
       "mean     45.218042    45.166757    45.121327    45.078724    45.045597   \n",
       "std       7.986921     7.973767     7.962258     7.950144     7.938532   \n",
       "min      35.094000    35.082000    34.988000    34.988000    34.988000   \n",
       "25%      36.020000    36.008000    36.000000    35.934000    35.926000   \n",
       "50%      44.621000    44.617000    44.527000    44.461000    44.457000   \n",
       "75%      53.828000    53.816000    53.734000    53.660000    53.656000   \n",
       "max      57.641000    57.609000    57.527000    57.465000    57.383000   \n",
       "\n",
       "          ...                50           51          52           53  \\\n",
       "count     ...       2205.000000  2205.000000  2205.00000  2205.000000   \n",
       "mean      ...         45.573747    45.557226    45.54675    45.540769   \n",
       "std       ...          7.990195     7.983875     7.98408     7.989100   \n",
       "min       ...         35.414000    35.414000    35.41000    35.414000   \n",
       "25%       ...         36.395000    36.344000    36.33200    36.328000   \n",
       "50%       ...         45.020000    45.016000    44.94100    44.941000   \n",
       "75%       ...         54.246000    54.246000    54.24200    54.242000   \n",
       "max       ...         58.023000    58.047000    58.03100    57.965000   \n",
       "\n",
       "                54           55           56           57           58  \\\n",
       "count  2205.000000  2205.000000  2205.000000  2205.000000  2205.000000   \n",
       "mean     45.539410    45.537794    45.534888    45.533562    45.531347   \n",
       "std       7.995141     8.000784     8.007442     8.014366     8.018769   \n",
       "min      35.398000    35.398000    35.398000    35.395000    35.402000   \n",
       "25%      36.328000    36.328000    36.328000    36.320000    36.320000   \n",
       "50%      44.949000    44.937000    44.937000    44.937000    44.937000   \n",
       "75%      54.242000    54.242000    54.242000    54.242000    54.242000   \n",
       "max      57.945000    57.957000    57.957000    57.973000    57.973000   \n",
       "\n",
       "                59  \n",
       "count  2205.000000  \n",
       "mean     45.527454  \n",
       "std       8.022338  \n",
       "min      35.395000  \n",
       "25%      36.316000  \n",
       "50%      44.930000  \n",
       "75%      54.238000  \n",
       "max      58.023000  \n",
       "\n",
       "[8 rows x 60 columns]"
      ]
     },
     "execution_count": 9,
     "metadata": {},
     "output_type": "execute_result"
    }
   ],
   "source": [
    "ts1.describe()"
   ]
  },
  {
   "cell_type": "code",
   "execution_count": 53,
   "metadata": {},
   "outputs": [
    {
     "data": {
      "text/plain": [
       "<matplotlib.figure.Figure at 0x1147bd400>"
      ]
     },
     "metadata": {},
     "output_type": "display_data"
    }
   ],
   "source": [
    "import matplotlib.pyplot as plt\n",
    "fig = plt.figure()"
   ]
  },
  {
   "cell_type": "code",
   "execution_count": 42,
   "metadata": {},
   "outputs": [
    {
     "data": {
      "image/png": "[encoded data removed]",
      "text/plain": [
       "<matplotlib.figure.Figure at 0x113aff978>"
      ]
     },
     "metadata": {},
     "output_type": "display_data"
    }
   ],
   "source": [
    "plt.subplot2grid((1,2),(0,0))           \n",
    "ts1.loc[0].plot()\n",
    "plt.title(u\"TS1 information--distribution\") \n",
    "plt.ylabel(u\"temperature\")  \n",
    "\n",
    "plt.subplot2grid((1,2),(0,1))           \n",
    "ts1.loc[0].plot(kind='box')\n",
    "plt.title(u\"TS1 information--box plot\") \n",
    "plt.ylabel(u\"temperature\") \n",
    "plt.show()"
   ]
  },
  {
   "cell_type": "markdown",
   "metadata": {},
   "source": [
    "From these pictrues, we can see that the data in txt file change over time. They are time series. I will show the distribution of all sensors in the following picture."
   ]
  },
  {
   "cell_type": "code",
   "execution_count": 68,
   "metadata": {},
   "outputs": [
    {
     "data": {
      "image/png": "[encoded data removed]",
      "text/plain": [
       "<matplotlib.figure.Figure at 0x146d57240>"
      ]
     },
     "metadata": {},
     "output_type": "display_data"
    },
    {
     "data": {
      "image/png": "[encoded data removed]",
      "text/plain": [
       "<matplotlib.figure.Figure at 0x145ecd400>"
      ]
     },
     "metadata": {},
     "output_type": "display_data"
    },
    {
     "data": {
      "image/png": "[encoded data removed]",
      "text/plain": [
       "<matplotlib.figure.Figure at 0x146ea5f28>"
      ]
     },
     "metadata": {},
     "output_type": "display_data"
    },
    {
     "data": {
      "image/png": "[encoded data removed]",
      "text/plain": [
       "<matplotlib.figure.Figure at 0x10ed698d0>"
      ]
     },
     "metadata": {},
     "output_type": "display_data"
    },
    {
     "data": {
      "image/png": "[encoded data removed]",
      "text/plain": [
       "<matplotlib.figure.Figure at 0x1461decf8>"
      ]
     },
     "metadata": {},
     "output_type": "display_data"
    },
    {
     "data": {
      "image/png": "[encoded data removed]",
      "text/plain": [
       "<matplotlib.figure.Figure at 0x146d7bda0>"
      ]
     },
     "metadata": {},
     "output_type": "display_data"
    },
    {
     "data": {
      "image/png": "[encoded data removed]",
      "text/plain": [
       "<matplotlib.figure.Figure at 0x146190cf8>"
      ]
     },
     "metadata": {},
     "output_type": "display_data"
    },
    {
     "data": {
      "image/png": "[encoded data removed]",
      "text/plain": [
       "<matplotlib.figure.Figure at 0x146a90a58>"
      ]
     },
     "metadata": {},
     "output_type": "display_data"
    },
    {
     "data": {
      "image/png": "[encoded data removed]",
      "text/plain": [
       "<matplotlib.figure.Figure at 0x146bdfe80>"
      ]
     },
     "metadata": {},
     "output_type": "display_data"
    },
    {
     "data": {
      "image/png": "[encoded data removed]",
      "text/plain": [
       "<matplotlib.figure.Figure at 0x146883e10>"
      ]
     },
     "metadata": {},
     "output_type": "display_data"
    },
    {
     "data": {
      "image/png": "[encoded data removed]",
      "text/plain": [
       "<matplotlib.figure.Figure at 0x146534c18>"
      ]
     },
     "metadata": {},
     "output_type": "display_data"
    },
    {
     "data": {
      "image/png": "[encoded data removed]",
      "text/plain": [
       "<matplotlib.figure.Figure at 0x14677c128>"
      ]
     },
     "metadata": {},
     "output_type": "display_data"
    },
    {
     "data": {
      "image/png": "[encoded data removed]",
      "text/plain": [
       "<matplotlib.figure.Figure at 0x146640d30>"
      ]
     },
     "metadata": {},
     "output_type": "display_data"
    },
    {
     "data": {
      "image/png": "[encoded data removed]",
      "text/plain": [
       "<matplotlib.figure.Figure at 0x1466b3ba8>"
      ]
     },
     "metadata": {},
     "output_type": "display_data"
    },
    {
     "data": {
      "image/png": "[encoded data removed]",
      "text/plain": [
       "<matplotlib.figure.Figure at 0x1125a7c88>"
      ]
     },
     "metadata": {},
     "output_type": "display_data"
    },
    {
     "data": {
      "image/png": "[encoded data removed]",
      "text/plain": [
       "<matplotlib.figure.Figure at 0x1126d0f98>"
      ]
     },
     "metadata": {},
     "output_type": "display_data"
    }
   ],
   "source": [
    "file_list = ['TS1', 'TS2', 'TS3', 'TS4','SE', 'PS1', 'PS2', 'PS3', 'PS4', 'PS5',\n",
    "              'PS6', 'FS1', 'FS2', 'EPS1', 'CP', 'CE']\n",
    "\n",
    "for i in range(len(file_list)):\n",
    "    all_file[i].loc[0].plot()\n",
    "    title_name = \"%s information--distribution\" %(file_list[i])\n",
    "    plt.title(title_name) \n",
    "    plt.show()\n",
    "    "
   ]
  },
  {
   "cell_type": "markdown",
   "metadata": {},
   "source": [
    "# 2. Data processing(data cleaning,validation, outlier value processing)"
   ]
  },
  {
   "cell_type": "markdown",
   "metadata": {},
   "source": [
    "According to description file. There are no missing value. So I do not need to deal with missing data.\n",
    "Also, since the data is time series, in my opinion, using mean value or median value of data(in one file) to present one featur is not reasonable. There are some ways to extract features for time series, and I will choose \"piecewise aggregate approximation\" method. Piecewise aggregate approximation is a method that representing the original time series by spliting the time series data equally and using the mean value to represent the segmented sequences."
   ]
  },
  {
   "cell_type": "markdown",
   "metadata": {},
   "source": [
    "From the information of description file. There are several features. Some features are 100Hz, which has 6000 columns in one txt file. Some features are 10Hz, which has 600 columns in one txt file. Some features are 1Hz, which has 60 columns in one txt file. If I use the 100Hz to predict the data, it will get the most precise outcome but it will have (6000*7+600*2+60*8) features. The data is so huge, and will take a long time the fit the data. So I plan to use 50HZ to prodict the data, which means I split the 100HZ data into 3000 parts, and calculate the mean value of each part. This method will process the extreme value too."
   ]
  },
  {
   "cell_type": "code",
   "execution_count": 72,
   "metadata": {
    "collapsed": true
   },
   "outputs": [],
   "source": [
    "list_100 = ['PS1', 'PS2', 'PS3', 'PS4', 'PS5',\n",
    "            'PS6', 'EPS1']\n",
    "list_10 = ['FS1', 'FS2']\n",
    "list_1 = ['TS1','TS2','TS3','TS4','VS1','CE','CP','SE']\n",
    "\n",
    "list_100 = [s + '.txt' for s in list_100]\n",
    "list_10 = [s + '.txt' for s in list_10]\n",
    "list_1 = [s + '.txt' for s in list_1]\n",
    "\n",
    "\n",
    "for key in list_100:\n",
    "    new_file = open(key.replace('.txt', '') + '_50Hz.csv', \"w\")\n",
    "    writer = csv.writer(new_file, delimiter='\\t')\n",
    "    with zipfile.ZipFile('data.zip') as myzip:\n",
    "        with myzip.open(key) as myfile:\n",
    "            df = pd.read_table(myfile, header=None)\n",
    "            for i in range(2205):\n",
    "                row = df.loc[i, :].values.tolist()\n",
    "                definite_row = []\n",
    "                sum = 0\n",
    "                for x, y in enumerate(row):\n",
    "                    if x == 0:\n",
    "                        sum += y\n",
    "                    elif x == len(row)-1:\n",
    "                        sum += y\n",
    "                        definite_row.append(sum/2)\n",
    "                    elif x % 2 != 0:\n",
    "                        sum += y\n",
    "                    else:\n",
    "                        definite_row.append(sum/2)\n",
    "                        sum = 0\n",
    "                        sum += y\n",
    "\n",
    "                writer.writerow(definite_row)\n",
    "                del definite_row[:]\n",
    "\n",
    "for key in list_10:\n",
    "    new_file = open(key.replace('.txt', '') + '_50Hz.csv', \"w\")\n",
    "    writer = csv.writer(new_file, delimiter='\\t')\n",
    "    with zipfile.ZipFile('data.zip') as myzip:\n",
    "        with myzip.open(key) as myfile:\n",
    "            df = pd.read_table(myfile, header=None)\n",
    "\n",
    "            for i in range(2205):\n",
    "                row = df.loc[i, :].values.tolist()\n",
    "                definite_row = []\n",
    "                for x, y in enumerate(row):\n",
    "                    definite_row.append(y)\n",
    "\n",
    "                writer.writerow(definite_row)\n",
    "                del definite_row[:]\n",
    "\n",
    "for key in list_1:\n",
    "    new_file = open(key.replace('.txt', '') + '_50Hz.csv', \"w\")\n",
    "    writer = csv.writer(new_file, delimiter='\\t')\n",
    "    with zipfile.ZipFile('data.zip') as myzip:\n",
    "        with myzip.open(key) as myfile:\n",
    "            df = pd.read_table(myfile, header=None)\n",
    "\n",
    "            for i in range(2205):\n",
    "                row = df.loc[i, :].values.tolist()\n",
    "                definite_row = []\n",
    "                for x, y in enumerate(row):\n",
    "                    definite_row.append(y)\n",
    "\n",
    "                writer.writerow(definite_row)\n",
    "                del definite_row[:]"
   ]
  },
  {
   "cell_type": "code",
   "execution_count": 3,
   "metadata": {},
   "outputs": [],
   "source": [
    "file_list = ['TS1', 'TS2', 'TS3', 'TS4','SE', 'PS1', 'PS2', 'PS3', 'PS4', 'PS5',\n",
    "              'PS6', 'FS1', 'FS2', 'EPS1', 'CP', 'CE']\n",
    "file_list = [\"{}_50Hz.csv\".format(s) for s in file_list]\n",
    "new_df = {}\n",
    "all_df = pd.DataFrame()\n",
    "\n",
    "for key in file_list:\n",
    "    df = pd.read_table(key, header=None)\n",
    "    all_df = pd.concat([all_df, df], axis=1)\n"
   ]
  },
  {
   "cell_type": "markdown",
   "metadata": {},
   "source": [
    "Find some basic information about the data."
   ]
  },
  {
   "cell_type": "code",
   "execution_count": 4,
   "metadata": {},
   "outputs": [
    {
     "data": {
      "text/html": [
       "<div>\n",
       "<style scoped>\n",
       "    .dataframe tbody tr th:only-of-type {\n",
       "        vertical-align: middle;\n",
       "    }\n",
       "\n",
       "    .dataframe tbody tr th {\n",
       "        vertical-align: top;\n",
       "    }\n",
       "\n",
       "    .dataframe thead th {\n",
       "        text-align: right;\n",
       "    }\n",
       "</style>\n",
       "<table border=\"1\" class=\"dataframe\">\n",
       "  <thead>\n",
       "    <tr style=\"text-align: right;\">\n",
       "      <th></th>\n",
       "      <th>0</th>\n",
       "      <th>1</th>\n",
       "      <th>2</th>\n",
       "      <th>3</th>\n",
       "      <th>4</th>\n",
       "      <th>5</th>\n",
       "      <th>6</th>\n",
       "      <th>7</th>\n",
       "      <th>8</th>\n",
       "      <th>9</th>\n",
       "      <th>...</th>\n",
       "      <th>50</th>\n",
       "      <th>51</th>\n",
       "      <th>52</th>\n",
       "      <th>53</th>\n",
       "      <th>54</th>\n",
       "      <th>55</th>\n",
       "      <th>56</th>\n",
       "      <th>57</th>\n",
       "      <th>58</th>\n",
       "      <th>59</th>\n",
       "    </tr>\n",
       "  </thead>\n",
       "  <tbody>\n",
       "    <tr>\n",
       "      <th>0</th>\n",
       "      <td>35.570</td>\n",
       "      <td>35.492</td>\n",
       "      <td>35.469</td>\n",
       "      <td>35.422</td>\n",
       "      <td>35.414</td>\n",
       "      <td>35.320</td>\n",
       "      <td>35.227</td>\n",
       "      <td>35.242</td>\n",
       "      <td>35.160</td>\n",
       "      <td>35.176</td>\n",
       "      <td>...</td>\n",
       "      <td>31.554</td>\n",
       "      <td>30.953</td>\n",
       "      <td>30.639</td>\n",
       "      <td>30.561</td>\n",
       "      <td>30.368</td>\n",
       "      <td>30.224</td>\n",
       "      <td>29.790</td>\n",
       "      <td>29.261</td>\n",
       "      <td>29.287</td>\n",
       "      <td>28.866</td>\n",
       "    </tr>\n",
       "    <tr>\n",
       "      <th>1</th>\n",
       "      <td>36.156</td>\n",
       "      <td>36.094</td>\n",
       "      <td>35.992</td>\n",
       "      <td>36.008</td>\n",
       "      <td>35.992</td>\n",
       "      <td>35.902</td>\n",
       "      <td>35.824</td>\n",
       "      <td>35.820</td>\n",
       "      <td>35.727</td>\n",
       "      <td>35.727</td>\n",
       "      <td>...</td>\n",
       "      <td>23.995</td>\n",
       "      <td>24.328</td>\n",
       "      <td>24.283</td>\n",
       "      <td>23.877</td>\n",
       "      <td>23.816</td>\n",
       "      <td>23.933</td>\n",
       "      <td>23.354</td>\n",
       "      <td>23.483</td>\n",
       "      <td>23.320</td>\n",
       "      <td>23.588</td>\n",
       "    </tr>\n",
       "    <tr>\n",
       "      <th>2</th>\n",
       "      <td>37.488</td>\n",
       "      <td>37.391</td>\n",
       "      <td>37.340</td>\n",
       "      <td>37.312</td>\n",
       "      <td>37.223</td>\n",
       "      <td>37.145</td>\n",
       "      <td>37.059</td>\n",
       "      <td>36.973</td>\n",
       "      <td>36.898</td>\n",
       "      <td>36.879</td>\n",
       "      <td>...</td>\n",
       "      <td>21.711</td>\n",
       "      <td>21.564</td>\n",
       "      <td>21.564</td>\n",
       "      <td>21.526</td>\n",
       "      <td>21.753</td>\n",
       "      <td>21.749</td>\n",
       "      <td>21.802</td>\n",
       "      <td>21.582</td>\n",
       "      <td>21.283</td>\n",
       "      <td>21.519</td>\n",
       "    </tr>\n",
       "    <tr>\n",
       "      <th>3</th>\n",
       "      <td>38.633</td>\n",
       "      <td>38.535</td>\n",
       "      <td>38.469</td>\n",
       "      <td>38.379</td>\n",
       "      <td>38.297</td>\n",
       "      <td>38.223</td>\n",
       "      <td>38.125</td>\n",
       "      <td>38.062</td>\n",
       "      <td>37.977</td>\n",
       "      <td>37.969</td>\n",
       "      <td>...</td>\n",
       "      <td>20.687</td>\n",
       "      <td>20.703</td>\n",
       "      <td>20.295</td>\n",
       "      <td>20.482</td>\n",
       "      <td>20.600</td>\n",
       "      <td>20.547</td>\n",
       "      <td>20.708</td>\n",
       "      <td>20.708</td>\n",
       "      <td>20.574</td>\n",
       "      <td>20.403</td>\n",
       "    </tr>\n",
       "    <tr>\n",
       "      <th>4</th>\n",
       "      <td>39.461</td>\n",
       "      <td>39.461</td>\n",
       "      <td>39.375</td>\n",
       "      <td>39.281</td>\n",
       "      <td>39.203</td>\n",
       "      <td>39.113</td>\n",
       "      <td>39.043</td>\n",
       "      <td>38.969</td>\n",
       "      <td>38.875</td>\n",
       "      <td>38.883</td>\n",
       "      <td>...</td>\n",
       "      <td>19.887</td>\n",
       "      <td>19.919</td>\n",
       "      <td>19.696</td>\n",
       "      <td>19.634</td>\n",
       "      <td>19.747</td>\n",
       "      <td>20.005</td>\n",
       "      <td>19.919</td>\n",
       "      <td>19.736</td>\n",
       "      <td>19.977</td>\n",
       "      <td>20.016</td>\n",
       "    </tr>\n",
       "  </tbody>\n",
       "</table>\n",
       "<p>5 rows × 22620 columns</p>\n",
       "</div>"
      ],
      "text/plain": [
       "       0       1       2       3       4       5       6       7       8   \\\n",
       "0  35.570  35.492  35.469  35.422  35.414  35.320  35.227  35.242  35.160   \n",
       "1  36.156  36.094  35.992  36.008  35.992  35.902  35.824  35.820  35.727   \n",
       "2  37.488  37.391  37.340  37.312  37.223  37.145  37.059  36.973  36.898   \n",
       "3  38.633  38.535  38.469  38.379  38.297  38.223  38.125  38.062  37.977   \n",
       "4  39.461  39.461  39.375  39.281  39.203  39.113  39.043  38.969  38.875   \n",
       "\n",
       "       9    ...        50      51      52      53      54      55      56  \\\n",
       "0  35.176   ...    31.554  30.953  30.639  30.561  30.368  30.224  29.790   \n",
       "1  35.727   ...    23.995  24.328  24.283  23.877  23.816  23.933  23.354   \n",
       "2  36.879   ...    21.711  21.564  21.564  21.526  21.753  21.749  21.802   \n",
       "3  37.969   ...    20.687  20.703  20.295  20.482  20.600  20.547  20.708   \n",
       "4  38.883   ...    19.887  19.919  19.696  19.634  19.747  20.005  19.919   \n",
       "\n",
       "       57      58      59  \n",
       "0  29.261  29.287  28.866  \n",
       "1  23.483  23.320  23.588  \n",
       "2  21.582  21.283  21.519  \n",
       "3  20.708  20.574  20.403  \n",
       "4  19.736  19.977  20.016  \n",
       "\n",
       "[5 rows x 22620 columns]"
      ]
     },
     "execution_count": 4,
     "metadata": {},
     "output_type": "execute_result"
    }
   ],
   "source": [
    "all_df.head()"
   ]
  },
  {
   "cell_type": "code",
   "execution_count": 4,
   "metadata": {},
   "outputs": [
    {
     "data": {
      "text/html": [
       "<div>\n",
       "<style scoped>\n",
       "    .dataframe tbody tr th:only-of-type {\n",
       "        vertical-align: middle;\n",
       "    }\n",
       "\n",
       "    .dataframe tbody tr th {\n",
       "        vertical-align: top;\n",
       "    }\n",
       "\n",
       "    .dataframe thead th {\n",
       "        text-align: right;\n",
       "    }\n",
       "</style>\n",
       "<table border=\"1\" class=\"dataframe\">\n",
       "  <thead>\n",
       "    <tr style=\"text-align: right;\">\n",
       "      <th></th>\n",
       "      <th>0</th>\n",
       "      <th>1</th>\n",
       "      <th>2</th>\n",
       "      <th>3</th>\n",
       "      <th>4</th>\n",
       "      <th>5</th>\n",
       "      <th>6</th>\n",
       "      <th>7</th>\n",
       "      <th>8</th>\n",
       "      <th>9</th>\n",
       "      <th>...</th>\n",
       "      <th>50</th>\n",
       "      <th>51</th>\n",
       "      <th>52</th>\n",
       "      <th>53</th>\n",
       "      <th>54</th>\n",
       "      <th>55</th>\n",
       "      <th>56</th>\n",
       "      <th>57</th>\n",
       "      <th>58</th>\n",
       "      <th>59</th>\n",
       "    </tr>\n",
       "  </thead>\n",
       "  <tbody>\n",
       "    <tr>\n",
       "      <th>count</th>\n",
       "      <td>2205.000000</td>\n",
       "      <td>2205.000000</td>\n",
       "      <td>2205.000000</td>\n",
       "      <td>2205.000000</td>\n",
       "      <td>2205.000000</td>\n",
       "      <td>2205.000000</td>\n",
       "      <td>2205.000000</td>\n",
       "      <td>2205.000000</td>\n",
       "      <td>2205.000000</td>\n",
       "      <td>2205.000000</td>\n",
       "      <td>...</td>\n",
       "      <td>2205.000000</td>\n",
       "      <td>2205.000000</td>\n",
       "      <td>2205.000000</td>\n",
       "      <td>2205.000000</td>\n",
       "      <td>2205.000000</td>\n",
       "      <td>2205.000000</td>\n",
       "      <td>2205.000000</td>\n",
       "      <td>2205.000000</td>\n",
       "      <td>2205.000000</td>\n",
       "      <td>2205.000000</td>\n",
       "    </tr>\n",
       "    <tr>\n",
       "      <th>mean</th>\n",
       "      <td>45.511420</td>\n",
       "      <td>45.460717</td>\n",
       "      <td>45.400622</td>\n",
       "      <td>45.336808</td>\n",
       "      <td>45.276612</td>\n",
       "      <td>45.218042</td>\n",
       "      <td>45.166757</td>\n",
       "      <td>45.121327</td>\n",
       "      <td>45.078724</td>\n",
       "      <td>45.045597</td>\n",
       "      <td>...</td>\n",
       "      <td>31.087899</td>\n",
       "      <td>31.120328</td>\n",
       "      <td>31.142691</td>\n",
       "      <td>31.155982</td>\n",
       "      <td>31.152029</td>\n",
       "      <td>31.134627</td>\n",
       "      <td>31.125789</td>\n",
       "      <td>31.125212</td>\n",
       "      <td>31.145241</td>\n",
       "      <td>31.280535</td>\n",
       "    </tr>\n",
       "    <tr>\n",
       "      <th>std</th>\n",
       "      <td>8.025131</td>\n",
       "      <td>8.025665</td>\n",
       "      <td>8.018736</td>\n",
       "      <td>8.008237</td>\n",
       "      <td>7.998160</td>\n",
       "      <td>7.986921</td>\n",
       "      <td>7.973767</td>\n",
       "      <td>7.962258</td>\n",
       "      <td>7.950144</td>\n",
       "      <td>7.938532</td>\n",
       "      <td>...</td>\n",
       "      <td>11.514662</td>\n",
       "      <td>11.492642</td>\n",
       "      <td>11.478266</td>\n",
       "      <td>11.475240</td>\n",
       "      <td>11.483747</td>\n",
       "      <td>11.503765</td>\n",
       "      <td>11.525016</td>\n",
       "      <td>11.533142</td>\n",
       "      <td>11.533428</td>\n",
       "      <td>11.547106</td>\n",
       "    </tr>\n",
       "    <tr>\n",
       "      <th>min</th>\n",
       "      <td>35.398000</td>\n",
       "      <td>35.320000</td>\n",
       "      <td>35.250000</td>\n",
       "      <td>35.168000</td>\n",
       "      <td>35.148000</td>\n",
       "      <td>35.094000</td>\n",
       "      <td>35.082000</td>\n",
       "      <td>34.988000</td>\n",
       "      <td>34.988000</td>\n",
       "      <td>34.988000</td>\n",
       "      <td>...</td>\n",
       "      <td>17.293000</td>\n",
       "      <td>17.283000</td>\n",
       "      <td>17.188000</td>\n",
       "      <td>17.271000</td>\n",
       "      <td>17.314000</td>\n",
       "      <td>17.201000</td>\n",
       "      <td>17.283000</td>\n",
       "      <td>17.201000</td>\n",
       "      <td>17.324000</td>\n",
       "      <td>17.332000</td>\n",
       "    </tr>\n",
       "    <tr>\n",
       "      <th>25%</th>\n",
       "      <td>36.312000</td>\n",
       "      <td>36.238000</td>\n",
       "      <td>36.187000</td>\n",
       "      <td>36.160000</td>\n",
       "      <td>36.090000</td>\n",
       "      <td>36.020000</td>\n",
       "      <td>36.008000</td>\n",
       "      <td>36.000000</td>\n",
       "      <td>35.934000</td>\n",
       "      <td>35.926000</td>\n",
       "      <td>...</td>\n",
       "      <td>19.944000</td>\n",
       "      <td>20.016000</td>\n",
       "      <td>20.079000</td>\n",
       "      <td>20.143000</td>\n",
       "      <td>20.151000</td>\n",
       "      <td>20.127000</td>\n",
       "      <td>20.068000</td>\n",
       "      <td>20.014000</td>\n",
       "      <td>19.991000</td>\n",
       "      <td>20.115000</td>\n",
       "    </tr>\n",
       "    <tr>\n",
       "      <th>50%</th>\n",
       "      <td>44.863000</td>\n",
       "      <td>44.855000</td>\n",
       "      <td>44.781000</td>\n",
       "      <td>44.711000</td>\n",
       "      <td>44.684000</td>\n",
       "      <td>44.621000</td>\n",
       "      <td>44.617000</td>\n",
       "      <td>44.527000</td>\n",
       "      <td>44.461000</td>\n",
       "      <td>44.457000</td>\n",
       "      <td>...</td>\n",
       "      <td>27.061000</td>\n",
       "      <td>27.100000</td>\n",
       "      <td>27.115000</td>\n",
       "      <td>27.123000</td>\n",
       "      <td>27.116000</td>\n",
       "      <td>27.087000</td>\n",
       "      <td>27.067000</td>\n",
       "      <td>27.073000</td>\n",
       "      <td>27.105000</td>\n",
       "      <td>27.250000</td>\n",
       "    </tr>\n",
       "    <tr>\n",
       "      <th>75%</th>\n",
       "      <td>54.238000</td>\n",
       "      <td>54.148000</td>\n",
       "      <td>54.070000</td>\n",
       "      <td>54.000000</td>\n",
       "      <td>53.906000</td>\n",
       "      <td>53.828000</td>\n",
       "      <td>53.816000</td>\n",
       "      <td>53.734000</td>\n",
       "      <td>53.660000</td>\n",
       "      <td>53.656000</td>\n",
       "      <td>...</td>\n",
       "      <td>46.415000</td>\n",
       "      <td>46.396000</td>\n",
       "      <td>46.420000</td>\n",
       "      <td>46.424000</td>\n",
       "      <td>46.448000</td>\n",
       "      <td>46.452000</td>\n",
       "      <td>46.462000</td>\n",
       "      <td>46.467000</td>\n",
       "      <td>46.485000</td>\n",
       "      <td>46.625000</td>\n",
       "    </tr>\n",
       "    <tr>\n",
       "      <th>max</th>\n",
       "      <td>58.039000</td>\n",
       "      <td>57.953000</td>\n",
       "      <td>57.941000</td>\n",
       "      <td>57.863000</td>\n",
       "      <td>57.715000</td>\n",
       "      <td>57.641000</td>\n",
       "      <td>57.609000</td>\n",
       "      <td>57.527000</td>\n",
       "      <td>57.465000</td>\n",
       "      <td>57.383000</td>\n",
       "      <td>...</td>\n",
       "      <td>47.923000</td>\n",
       "      <td>48.042000</td>\n",
       "      <td>47.947000</td>\n",
       "      <td>47.876000</td>\n",
       "      <td>47.946000</td>\n",
       "      <td>48.030000</td>\n",
       "      <td>47.994000</td>\n",
       "      <td>48.005000</td>\n",
       "      <td>47.964000</td>\n",
       "      <td>48.266000</td>\n",
       "    </tr>\n",
       "  </tbody>\n",
       "</table>\n",
       "<p>8 rows × 22620 columns</p>\n",
       "</div>"
      ],
      "text/plain": [
       "                0            1            2            3            4   \\\n",
       "count  2205.000000  2205.000000  2205.000000  2205.000000  2205.000000   \n",
       "mean     45.511420    45.460717    45.400622    45.336808    45.276612   \n",
       "std       8.025131     8.025665     8.018736     8.008237     7.998160   \n",
       "min      35.398000    35.320000    35.250000    35.168000    35.148000   \n",
       "25%      36.312000    36.238000    36.187000    36.160000    36.090000   \n",
       "50%      44.863000    44.855000    44.781000    44.711000    44.684000   \n",
       "75%      54.238000    54.148000    54.070000    54.000000    53.906000   \n",
       "max      58.039000    57.953000    57.941000    57.863000    57.715000   \n",
       "\n",
       "                5            6            7            8            9   \\\n",
       "count  2205.000000  2205.000000  2205.000000  2205.000000  2205.000000   \n",
       "mean     45.218042    45.166757    45.121327    45.078724    45.045597   \n",
       "std       7.986921     7.973767     7.962258     7.950144     7.938532   \n",
       "min      35.094000    35.082000    34.988000    34.988000    34.988000   \n",
       "25%      36.020000    36.008000    36.000000    35.934000    35.926000   \n",
       "50%      44.621000    44.617000    44.527000    44.461000    44.457000   \n",
       "75%      53.828000    53.816000    53.734000    53.660000    53.656000   \n",
       "max      57.641000    57.609000    57.527000    57.465000    57.383000   \n",
       "\n",
       "          ...                50           51           52           53  \\\n",
       "count     ...       2205.000000  2205.000000  2205.000000  2205.000000   \n",
       "mean      ...         31.087899    31.120328    31.142691    31.155982   \n",
       "std       ...         11.514662    11.492642    11.478266    11.475240   \n",
       "min       ...         17.293000    17.283000    17.188000    17.271000   \n",
       "25%       ...         19.944000    20.016000    20.079000    20.143000   \n",
       "50%       ...         27.061000    27.100000    27.115000    27.123000   \n",
       "75%       ...         46.415000    46.396000    46.420000    46.424000   \n",
       "max       ...         47.923000    48.042000    47.947000    47.876000   \n",
       "\n",
       "                54           55           56           57           58  \\\n",
       "count  2205.000000  2205.000000  2205.000000  2205.000000  2205.000000   \n",
       "mean     31.152029    31.134627    31.125789    31.125212    31.145241   \n",
       "std      11.483747    11.503765    11.525016    11.533142    11.533428   \n",
       "min      17.314000    17.201000    17.283000    17.201000    17.324000   \n",
       "25%      20.151000    20.127000    20.068000    20.014000    19.991000   \n",
       "50%      27.116000    27.087000    27.067000    27.073000    27.105000   \n",
       "75%      46.448000    46.452000    46.462000    46.467000    46.485000   \n",
       "max      47.946000    48.030000    47.994000    48.005000    47.964000   \n",
       "\n",
       "                59  \n",
       "count  2205.000000  \n",
       "mean     31.280535  \n",
       "std      11.547106  \n",
       "min      17.332000  \n",
       "25%      20.115000  \n",
       "50%      27.250000  \n",
       "75%      46.625000  \n",
       "max      48.266000  \n",
       "\n",
       "[8 rows x 22620 columns]"
      ]
     },
     "execution_count": 4,
     "metadata": {},
     "output_type": "execute_result"
    }
   ],
   "source": [
    "all_df.describe()"
   ]
  },
  {
   "cell_type": "markdown",
   "metadata": {},
   "source": [
    "# 3. Model fitting and prediction"
   ]
  },
  {
   "cell_type": "markdown",
   "metadata": {},
   "source": [
    "I will choose:\n",
    "        1.k-Nearest Neighbors\n",
    "        2.Random Forest\n",
    "        3.Logistic regression\n",
    "to make prediction.\n",
    "I will choose Cooler condition as target condition.\n"
   ]
  },
  {
   "cell_type": "markdown",
   "metadata": {},
   "source": [
    "In my opinion, it is a classfication question, so I will choose classification algorithms and supervised machine learning models.\n",
    "According to Helwig, N., Pignanelli, E., & Schütze, A. (2015, May), they choose LDA algorithm to make prediction. \n",
    "However, the data which used in LDA should be normal distribution. I find it is very hard to prove every feature is normal distribution. So I do not choose this algorithm. I choose the algorithm which do not require normal distribution data.\n",
    "The first algorithm I choose is KNN. "
   ]
  },
  {
   "cell_type": "markdown",
   "metadata": {},
   "source": [
    "# 3.1 KNN"
   ]
  },
  {
   "cell_type": "code",
   "execution_count": 20,
   "metadata": {
    "collapsed": true
   },
   "outputs": [],
   "source": [
    "from sklearn.cluster import KMeans\n",
    "from sklearn.neighbors import KNeighborsClassifier\n",
    "from sklearn.model_selection import train_test_split\n",
    "from sklearn.preprocessing import LabelEncoder\n",
    "from sklearn.metrics import accuracy_score\n",
    "from sklearn.metrics import confusion_matrix\n",
    "from sklearn.metrics import classification_report\n",
    "import matplotlib.pyplot as plt"
   ]
  },
  {
   "cell_type": "code",
   "execution_count": 13,
   "metadata": {},
   "outputs": [
    {
     "name": "stdout",
     "output_type": "stream",
     "text": [
      "0.989425981873\n"
     ]
    }
   ],
   "source": [
    "target_df = pd.read_table('profile.txt', header=None)\n",
    "target_df = target_df.drop([1,2,3,4], axis=1)\n",
    "\n",
    "x_train, x_test, y_train, y_test = train_test_split(all_df, target_df, test_size=0.3, random_state=7)\n",
    "knn = KNeighborsClassifier(n_neighbors=4)\n",
    "knn.fit(x_train, y_train.values.ravel())\n",
    "print(knn.score(x_test, y_test))"
   ]
  },
  {
   "cell_type": "code",
   "execution_count": 28,
   "metadata": {},
   "outputs": [
    {
     "name": "stdout",
     "output_type": "stream",
     "text": [
      "confusion matrix train\n",
      " [[495   0   2]\n",
      " [  5 519   0]\n",
      " [  1   2 519]] \n",
      "\n",
      "confusion matrix test\n",
      " [[235   0   0]\n",
      " [  3 205   0]\n",
      " [  1   0 218]] \n",
      "\n"
     ]
    }
   ],
   "source": [
    "pred = knn.predict(x_test)\n",
    "y_train_pred = knn.predict(x_train)\n",
    "cm_train = confusion_matrix(y_train, y_train_pred)\n",
    "cm_test = confusion_matrix(y_test, pred)\n",
    "print('confusion matrix train\\n',cm_train,'\\n')\n",
    "print('confusion matrix test\\n', cm_test,'\\n')"
   ]
  },
  {
   "cell_type": "code",
   "execution_count": 29,
   "metadata": {},
   "outputs": [
    {
     "name": "stdout",
     "output_type": "stream",
     "text": [
      "Classification report train\n",
      "              precision    recall  f1-score   support\n",
      "\n",
      "          3       0.99      1.00      0.99       497\n",
      "         20       1.00      0.99      0.99       524\n",
      "        100       1.00      0.99      1.00       522\n",
      "\n",
      "avg / total       0.99      0.99      0.99      1543\n",
      " \n",
      "\n",
      "Classification report test\n",
      "              precision    recall  f1-score   support\n",
      "\n",
      "          3       0.98      1.00      0.99       235\n",
      "         20       1.00      0.99      0.99       208\n",
      "        100       1.00      1.00      1.00       219\n",
      "\n",
      "avg / total       0.99      0.99      0.99       662\n",
      " \n",
      "\n"
     ]
    }
   ],
   "source": [
    "print('Classification report train\\n',classification_report(y_train, y_train_pred),'\\n')\n",
    "print('Classification report test\\n',classification_report(y_test, pred),'\\n')"
   ]
  },
  {
   "cell_type": "code",
   "execution_count": 31,
   "metadata": {},
   "outputs": [
    {
     "name": "stdout",
     "output_type": "stream",
     "text": [
      "Accuracy: 0.993957703927\n"
     ]
    }
   ],
   "source": [
    "print(\"Accuracy:\", accuracy_score(y_test, pred))"
   ]
  },
  {
   "cell_type": "code",
   "execution_count": 30,
   "metadata": {},
   "outputs": [
    {
     "data": {
      "image/png": "[encoded data removed]",
      "text/plain": [
       "<matplotlib.figure.Figure at 0x1129c7f60>"
      ]
     },
     "metadata": {},
     "output_type": "display_data"
    }
   ],
   "source": [
    "colorMetrics = confusion_matrix(y_test, pred)\n",
    "sns.heatmap(colorMetrics,annot = True,fmt = 'd')\n",
    "plt.show()"
   ]
  },
  {
   "cell_type": "markdown",
   "metadata": {},
   "source": [
    "# 3.2 Random Forest"
   ]
  },
  {
   "cell_type": "code",
   "execution_count": 22,
   "metadata": {},
   "outputs": [
    {
     "name": "stderr",
     "output_type": "stream",
     "text": [
      "/Users/lynn/anaconda/lib/python3.6/site-packages/sklearn/cross_validation.py:41: DeprecationWarning: This module was deprecated in version 0.18 in favor of the model_selection module into which all the refactored classes and functions are moved. Also note that the interface of the new CV iterators are different from that of this module. This module will be removed in 0.20.\n",
      "  \"This module will be removed in 0.20.\", DeprecationWarning)\n",
      "/Users/lynn/anaconda/lib/python3.6/site-packages/sklearn/grid_search.py:42: DeprecationWarning: This module was deprecated in version 0.18 in favor of the model_selection module into which all the refactored classes and functions are moved. This module will be removed in 0.20.\n",
      "  DeprecationWarning)\n"
     ]
    }
   ],
   "source": [
    "from sklearn.ensemble import RandomForestClassifier\n",
    "from sklearn.grid_search import GridSearchCV\n"
   ]
  },
  {
   "cell_type": "code",
   "execution_count": 23,
   "metadata": {},
   "outputs": [
    {
     "name": "stderr",
     "output_type": "stream",
     "text": [
      "/Users/lynn/anaconda/lib/python3.6/site-packages/sklearn/ensemble/forest.py:451: UserWarning: Some inputs do not have OOB scores. This probably means too few trees were used to compute any reliable oob estimates.\n",
      "  warn(\"Some inputs do not have OOB scores. \"\n",
      "/Users/lynn/anaconda/lib/python3.6/site-packages/sklearn/ensemble/forest.py:456: RuntimeWarning: invalid value encountered in true_divide\n",
      "  predictions[k].sum(axis=1)[:, np.newaxis])\n"
     ]
    },
    {
     "data": {
      "text/plain": [
       "RandomForestClassifier(bootstrap=True, class_weight=None, criterion='gini',\n",
       "            max_depth=None, max_features='auto', max_leaf_nodes=None,\n",
       "            min_impurity_decrease=0.0, min_impurity_split=None,\n",
       "            min_samples_leaf=1, min_samples_split=2,\n",
       "            min_weight_fraction_leaf=0.0, n_estimators=10, n_jobs=1,\n",
       "            oob_score=True, random_state=10, verbose=0, warm_start=False)"
      ]
     },
     "execution_count": 23,
     "metadata": {},
     "output_type": "execute_result"
    }
   ],
   "source": [
    "rf0 = RandomForestClassifier(oob_score=True, random_state=10)\n",
    "x_train, x_test, y_train, y_test = train_test_split(all_df, target_df, test_size=0.3, random_state=7)\n",
    "rf0.fit(x_train, y_train.values.ravel())\n"
   ]
  },
  {
   "cell_type": "code",
   "execution_count": 32,
   "metadata": {},
   "outputs": [
    {
     "name": "stdout",
     "output_type": "stream",
     "text": [
      "confusion matrix train\n",
      " [[497   0   0]\n",
      " [  0 524   0]\n",
      " [  0   0 522]] \n",
      "\n",
      "confusion matrix test\n",
      " [[235   0   0]\n",
      " [  0 208   0]\n",
      " [  0   0 219]] \n",
      "\n"
     ]
    }
   ],
   "source": [
    "pred1 = rf0.predict(x_test)\n",
    "y_train_pred1 = rf0.predict(x_train)\n",
    "cm_train1 = confusion_matrix(y_train, y_train_pred1)\n",
    "cm_test1 = confusion_matrix(y_test, pred1)\n",
    "print('confusion matrix train\\n',cm_train1,'\\n')\n",
    "print('confusion matrix test\\n', cm_test1,'\\n')"
   ]
  },
  {
   "cell_type": "code",
   "execution_count": 33,
   "metadata": {},
   "outputs": [
    {
     "name": "stdout",
     "output_type": "stream",
     "text": [
      "Classification report train\n",
      "              precision    recall  f1-score   support\n",
      "\n",
      "          3       1.00      1.00      1.00       497\n",
      "         20       1.00      1.00      1.00       524\n",
      "        100       1.00      1.00      1.00       522\n",
      "\n",
      "avg / total       1.00      1.00      1.00      1543\n",
      " \n",
      "\n",
      "Classification report test\n",
      "              precision    recall  f1-score   support\n",
      "\n",
      "          3       1.00      1.00      1.00       235\n",
      "         20       1.00      1.00      1.00       208\n",
      "        100       1.00      1.00      1.00       219\n",
      "\n",
      "avg / total       1.00      1.00      1.00       662\n",
      " \n",
      "\n"
     ]
    }
   ],
   "source": [
    "print('Classification report train\\n',classification_report(y_train, y_train_pred1),'\\n')\n",
    "print('Classification report test\\n',classification_report(y_test, pred1),'\\n')"
   ]
  },
  {
   "cell_type": "code",
   "execution_count": 34,
   "metadata": {},
   "outputs": [
    {
     "name": "stdout",
     "output_type": "stream",
     "text": [
      "Accuracy: 1.0\n"
     ]
    }
   ],
   "source": [
    "print(\"Accuracy:\", accuracy_score(y_test, pred1))"
   ]
  },
  {
   "cell_type": "code",
   "execution_count": 35,
   "metadata": {},
   "outputs": [
    {
     "data": {
      "image/png": "[encoded data removed]",
      "text/plain": [
       "<matplotlib.figure.Figure at 0x128d8c438>"
      ]
     },
     "metadata": {},
     "output_type": "display_data"
    }
   ],
   "source": [
    "colorMetrics = confusion_matrix(y_test, pred1)\n",
    "sns.heatmap(colorMetrics,annot = True,fmt = 'd')\n",
    "plt.show()"
   ]
  },
  {
   "cell_type": "markdown",
   "metadata": {},
   "source": [
    "# 3.3 SVM"
   ]
  },
  {
   "cell_type": "markdown",
   "metadata": {},
   "source": [
    "Since this method do not have good predict performance as the other three , so this method will be dropped."
   ]
  },
  {
   "cell_type": "code",
   "execution_count": 37,
   "metadata": {},
   "outputs": [
    {
     "data": {
      "text/plain": [
       "SVC(C=1.0, cache_size=200, class_weight=None, coef0=0.0,\n",
       "  decision_function_shape='ovr', degree=3, gamma='auto', kernel='rbf',\n",
       "  max_iter=-1, probability=False, random_state=None, shrinking=True,\n",
       "  tol=0.001, verbose=False)"
      ]
     },
     "execution_count": 37,
     "metadata": {},
     "output_type": "execute_result"
    }
   ],
   "source": [
    "from sklearn.svm import SVC\n",
    "svm = SVC()\n",
    "svm.fit(x_train, y_train.values.ravel())"
   ]
  },
  {
   "cell_type": "code",
   "execution_count": 38,
   "metadata": {},
   "outputs": [
    {
     "name": "stdout",
     "output_type": "stream",
     "text": [
      "confusion matrix train\n",
      " [[497   0   0]\n",
      " [  0 524   0]\n",
      " [  0   0 522]] \n",
      "\n",
      "confusion matrix test\n",
      " [[233   2   0]\n",
      " [ 21 187   0]\n",
      " [ 24   0 195]] \n",
      "\n"
     ]
    }
   ],
   "source": [
    "pred2 = svm.predict(x_test)\n",
    "y_train_pred2 = svm.predict(x_train)\n",
    "cm_train2 = confusion_matrix(y_train, y_train_pred2)\n",
    "cm_test2 = confusion_matrix(y_test, pred2)\n",
    "print('confusion matrix train\\n',cm_train2,'\\n')\n",
    "print('confusion matrix test\\n', cm_test2,'\\n')"
   ]
  },
  {
   "cell_type": "code",
   "execution_count": 39,
   "metadata": {},
   "outputs": [
    {
     "name": "stdout",
     "output_type": "stream",
     "text": [
      "Classification report train\n",
      "              precision    recall  f1-score   support\n",
      "\n",
      "          3       1.00      1.00      1.00       497\n",
      "         20       1.00      1.00      1.00       524\n",
      "        100       1.00      1.00      1.00       522\n",
      "\n",
      "avg / total       1.00      1.00      1.00      1543\n",
      " \n",
      "\n",
      "Classification report test\n",
      "              precision    recall  f1-score   support\n",
      "\n",
      "          3       0.84      0.99      0.91       235\n",
      "         20       0.99      0.90      0.94       208\n",
      "        100       1.00      0.89      0.94       219\n",
      "\n",
      "avg / total       0.94      0.93      0.93       662\n",
      " \n",
      "\n"
     ]
    }
   ],
   "source": [
    "print('Classification report train\\n',classification_report(y_train, y_train_pred2),'\\n')\n",
    "print('Classification report test\\n',classification_report(y_test, pred2),'\\n')"
   ]
  },
  {
   "cell_type": "code",
   "execution_count": 41,
   "metadata": {},
   "outputs": [
    {
     "name": "stdout",
     "output_type": "stream",
     "text": [
      "Accuracy: 0.929003021148\n"
     ]
    }
   ],
   "source": [
    "print(\"Accuracy:\", accuracy_score(y_test, pred2))"
   ]
  },
  {
   "cell_type": "code",
   "execution_count": 42,
   "metadata": {},
   "outputs": [
    {
     "data": {
      "image/png": "[encoded data removed]",
      "text/plain": [
       "<matplotlib.figure.Figure at 0x1129954e0>"
      ]
     },
     "metadata": {},
     "output_type": "display_data"
    }
   ],
   "source": [
    "colorMetrics = confusion_matrix(y_test, pred2)\n",
    "sns.heatmap(colorMetrics,annot = True,fmt = 'd')\n",
    "plt.show()"
   ]
  },
  {
   "cell_type": "markdown",
   "metadata": {},
   "source": [
    "# 3.4 Logistic Regression"
   ]
  },
  {
   "cell_type": "code",
   "execution_count": 43,
   "metadata": {},
   "outputs": [
    {
     "data": {
      "text/plain": [
       "LogisticRegression(C=1000.0, class_weight=None, dual=False,\n",
       "          fit_intercept=True, intercept_scaling=1, max_iter=100,\n",
       "          multi_class='ovr', n_jobs=1, penalty='l2', random_state=None,\n",
       "          solver='lbfgs', tol=0.0001, verbose=0, warm_start=False)"
      ]
     },
     "execution_count": 43,
     "metadata": {},
     "output_type": "execute_result"
    }
   ],
   "source": [
    "from sklearn.linear_model import LogisticRegression\n",
    "x_train, x_test, y_train, y_test = train_test_split(all_df, target_df, test_size=0.3, random_state=6)\n",
    "logi = LogisticRegression(C=1e3,solver='lbfgs')\n",
    "logi.fit(x_train, y_train.values.ravel())"
   ]
  },
  {
   "cell_type": "code",
   "execution_count": 44,
   "metadata": {},
   "outputs": [
    {
     "name": "stdout",
     "output_type": "stream",
     "text": [
      "confusion matrix train\n",
      " [[530   5   0]\n",
      " [  9 495   0]\n",
      " [  0   1 503]] \n",
      "\n",
      "confusion matrix test\n",
      " [[195   1   1]\n",
      " [  3 225   0]\n",
      " [  0   0 237]] \n",
      "\n"
     ]
    }
   ],
   "source": [
    "pred3 = logi.predict(x_test)\n",
    "y_train_pred3 = logi.predict(x_train)\n",
    "cm_train3 = confusion_matrix(y_train, y_train_pred3)\n",
    "cm_test3 = confusion_matrix(y_test, pred3)\n",
    "print('confusion matrix train\\n',cm_train3,'\\n')\n",
    "print('confusion matrix test\\n', cm_test3,'\\n')"
   ]
  },
  {
   "cell_type": "code",
   "execution_count": 45,
   "metadata": {},
   "outputs": [
    {
     "name": "stdout",
     "output_type": "stream",
     "text": [
      "Classification report train\n",
      "              precision    recall  f1-score   support\n",
      "\n",
      "          3       0.98      0.99      0.99       535\n",
      "         20       0.99      0.98      0.99       504\n",
      "        100       1.00      1.00      1.00       504\n",
      "\n",
      "avg / total       0.99      0.99      0.99      1543\n",
      " \n",
      "\n",
      "Classification report test\n",
      "              precision    recall  f1-score   support\n",
      "\n",
      "          3       0.98      0.99      0.99       197\n",
      "         20       1.00      0.99      0.99       228\n",
      "        100       1.00      1.00      1.00       237\n",
      "\n",
      "avg / total       0.99      0.99      0.99       662\n",
      " \n",
      "\n"
     ]
    }
   ],
   "source": [
    "print('Classification report train\\n',classification_report(y_train, y_train_pred3),'\\n')\n",
    "print('Classification report test\\n',classification_report(y_test, pred3),'\\n')"
   ]
  },
  {
   "cell_type": "code",
   "execution_count": 46,
   "metadata": {},
   "outputs": [
    {
     "name": "stdout",
     "output_type": "stream",
     "text": [
      "Accuracy: 0.992447129909\n"
     ]
    }
   ],
   "source": [
    "print(\"Accuracy:\", accuracy_score(y_test, pred3))\n"
   ]
  },
  {
   "cell_type": "code",
   "execution_count": 47,
   "metadata": {},
   "outputs": [
    {
     "data": {
      "image/png": "[encoded data removed]",
      "text/plain": [
       "<matplotlib.figure.Figure at 0x1285d8160>"
      ]
     },
     "metadata": {},
     "output_type": "display_data"
    }
   ],
   "source": [
    "colorMetrics = confusion_matrix(y_test, pred3)\n",
    "sns.heatmap(cm_test3,annot = True,fmt = 'd',clip_on=True)\n",
    "plt.show()"
   ]
  },
  {
   "cell_type": "markdown",
   "metadata": {
    "collapsed": true
   },
   "source": [
    "# 4. Model Optimization"
   ]
  },
  {
   "cell_type": "markdown",
   "metadata": {},
   "source": [
    "From base models, we can seen that KNN, Random Forest, Logistic Regression has high performance in the prediction.So I choose this three algorithms, and will make optimization on KNN and Logistic Regression."
   ]
  },
  {
   "cell_type": "markdown",
   "metadata": {},
   "source": [
    "# 4.1 Cross-Validation"
   ]
  },
  {
   "cell_type": "markdown",
   "metadata": {},
   "source": [
    "Cross-Validation is a method to observe traning model. Doing cross-validation will tell whether the traning model has great prediction accuracy."
   ]
  },
  {
   "cell_type": "code",
   "execution_count": 48,
   "metadata": {
    "collapsed": true
   },
   "outputs": [],
   "source": [
    "from sklearn.ensemble import BaggingRegressor\n",
    "from sklearn.cross_validation import cross_val_score"
   ]
  },
  {
   "cell_type": "code",
   "execution_count": 56,
   "metadata": {},
   "outputs": [
    {
     "name": "stdout",
     "output_type": "stream",
     "text": [
      "Cross-Validation Score for Logictic Regression Model [ 0.98705502  0.98705502  0.99352751  0.99029126  0.97068404]\n"
     ]
    }
   ],
   "source": [
    "print('Cross-Validation Score for Logictic Regression Model',cross_val_score(logi, x_train, y_train.values.ravel(), cv=5))\n"
   ]
  },
  {
   "cell_type": "code",
   "execution_count": 57,
   "metadata": {},
   "outputs": [
    {
     "name": "stdout",
     "output_type": "stream",
     "text": [
      "Cross-Validation Score for KNN Model [ 0.98705502  0.97734628  0.99029126  0.98381877  0.99348534]\n"
     ]
    }
   ],
   "source": [
    "print('Cross-Validation Score for KNN Model',cross_val_score(knn, x_train, y_train.values.ravel(), cv=5))"
   ]
  },
  {
   "cell_type": "markdown",
   "metadata": {},
   "source": [
    "# 4.2 Learning curves"
   ]
  },
  {
   "cell_type": "markdown",
   "metadata": {},
   "source": [
    "The model may overfitting or underfitting, so I need to draw learning curves to judge if the model is overfitting/underfitting."
   ]
  },
  {
   "cell_type": "code",
   "execution_count": 53,
   "metadata": {},
   "outputs": [
    {
     "name": "stderr",
     "output_type": "stream",
     "text": [
      "/Users/lynn/anaconda/lib/python3.6/site-packages/sklearn/learning_curve.py:22: DeprecationWarning: This module was deprecated in version 0.18 in favor of the model_selection module into which all the functions are moved. This module will be removed in 0.20\n",
      "  DeprecationWarning)\n"
     ]
    }
   ],
   "source": [
    "from sklearn.learning_curve import learning_curve"
   ]
  },
  {
   "cell_type": "code",
   "execution_count": 54,
   "metadata": {},
   "outputs": [
    {
     "data": {
      "image/png": "[encoded data removed]",
      "text/plain": [
       "<matplotlib.figure.Figure at 0x114d90748>"
      ]
     },
     "metadata": {},
     "output_type": "display_data"
    },
    {
     "data": {
      "text/plain": [
       "(0.9881336904652267, 0.016151235431609012)"
      ]
     },
     "execution_count": 54,
     "metadata": {},
     "output_type": "execute_result"
    },
    {
     "data": {
      "image/png": "[encoded data removed]",
      "text/plain": [
       "<matplotlib.figure.Figure at 0x114ce3780>"
      ]
     },
     "metadata": {},
     "output_type": "display_data"
    }
   ],
   "source": [
    "def plot_learning_curve(estimator, title, X, y, ylim=None, cv=None, n_jobs=1, \n",
    "                        train_sizes=np.linspace(.05, 1., 20), verbose=0, plot=True):\n",
    "\n",
    "    train_sizes, train_scores, test_scores = learning_curve(\n",
    "        estimator, X, y, cv=cv, n_jobs=n_jobs, train_sizes=train_sizes, verbose=verbose)\n",
    "\n",
    "    train_scores_mean = np.mean(train_scores, axis=1)\n",
    "    train_scores_std = np.std(train_scores, axis=1)\n",
    "    test_scores_mean = np.mean(test_scores, axis=1)\n",
    "    test_scores_std = np.std(test_scores, axis=1)\n",
    "\n",
    "    if plot:\n",
    "        plt.figure()\n",
    "        plt.title(title)\n",
    "        if ylim is not None:\n",
    "            plt.ylim(*ylim)\n",
    "        plt.xlabel(u\"Number of Training Sample\")\n",
    "        plt.ylabel(u\"Score\")\n",
    "        plt.gca().invert_yaxis()\n",
    "        plt.grid()\n",
    "\n",
    "        plt.fill_between(train_sizes, train_scores_mean - train_scores_std, train_scores_mean + train_scores_std, \n",
    "                         alpha=0.1, color=\"b\")\n",
    "        plt.fill_between(train_sizes, test_scores_mean - test_scores_std, test_scores_mean + test_scores_std, \n",
    "                         alpha=0.1, color=\"r\")\n",
    "        plt.plot(train_sizes, train_scores_mean, 'o-', color=\"b\", label=u\"Score in Train data set\")\n",
    "        plt.plot(train_sizes, test_scores_mean, 'o-', color=\"r\", label=u\"Score in cross-validation\")\n",
    "\n",
    "        plt.legend(loc=\"best\")\n",
    "\n",
    "        plt.draw()\n",
    "        plt.show()\n",
    "        plt.gca().invert_yaxis()\n",
    "\n",
    "    midpoint = ((train_scores_mean[-1] + train_scores_std[-1]) + (test_scores_mean[-1] - test_scores_std[-1])) / 2\n",
    "    diff = (train_scores_mean[-1] + train_scores_std[-1]) - (test_scores_mean[-1] - test_scores_std[-1])\n",
    "    return midpoint, diff\n",
    "\n",
    "plot_learning_curve(logi, u\"learning curve\",  x_train, y_train.values.ravel())"
   ]
  },
  {
   "cell_type": "code",
   "execution_count": 55,
   "metadata": {},
   "outputs": [
    {
     "data": {
      "image/png": "[encoded data removed]",
      "text/plain": [
       "<matplotlib.figure.Figure at 0x11585d320>"
      ]
     },
     "metadata": {},
     "output_type": "display_data"
    },
    {
     "data": {
      "text/plain": [
       "(0.98717580439221109, 0.0099166515182846915)"
      ]
     },
     "execution_count": 55,
     "metadata": {},
     "output_type": "execute_result"
    },
    {
     "data": {
      "image/png": "[encoded data removed]",
      "text/plain": [
       "<matplotlib.figure.Figure at 0x115852c88>"
      ]
     },
     "metadata": {},
     "output_type": "display_data"
    }
   ],
   "source": [
    "plot_learning_curve(knn, u\"KNN learning curve\",  x_train, y_train.values.ravel())"
   ]
  },
  {
   "cell_type": "markdown",
   "metadata": {},
   "source": [
    "From learning curves, we can see that the model is not overfitting or underfitting."
   ]
  },
  {
   "cell_type": "markdown",
   "metadata": {},
   "source": [
    "# 5 Result"
   ]
  },
  {
   "cell_type": "markdown",
   "metadata": {},
   "source": [
    "From the result in 4.1, we can see the prediction accuracy for KNN is 0.993957703927"
   ]
  },
  {
   "cell_type": "markdown",
   "metadata": {},
   "source": [
    "From the result in 4.2, we can see the prediction accuracy for Random Forest is 1"
   ]
  },
  {
   "cell_type": "markdown",
   "metadata": {},
   "source": [
    "From the result in 4.2, we can see the prediction accuracy for Logistic is 0.992447129909"
   ]
  },
  {
   "cell_type": "markdown",
   "metadata": {},
   "source": [
    "Random Forest has the best performance in model prediction."
   ]
  },
  {
   "cell_type": "markdown",
   "metadata": {},
   "source": [
    "# Reference"
   ]
  },
  {
   "cell_type": "markdown",
   "metadata": {},
   "source": [
    "[1] Helwig, N., Pignanelli, E., & Schütze, A. (2015, May). Condition monitoring of a complex hydraulic system using multivariate statistics. In Instrumentation and Measurement Technology Conference (I2MTC), 2015 IEEE International (pp. 210-215). IEEE."
   ]
  }
 ],
 "metadata": {
  "kernelspec": {
   "display_name": "Python 3",
   "language": "python",
   "name": "python3"
  },
  "language_info": {
   "codemirror_mode": {
    "name": "ipython",
    "version": 3
   },
   "file_extension": ".py",
   "mimetype": "text/x-python",
   "name": "python",
   "nbconvert_exporter": "python",
   "pygments_lexer": "ipython3",
   "version": "3.6.2"
  }
 },
 "nbformat": 4,
 "nbformat_minor": 2
}
